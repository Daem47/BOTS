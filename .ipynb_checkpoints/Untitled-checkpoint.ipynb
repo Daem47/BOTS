{
 "cells": [
  {
   "cell_type": "code",
   "execution_count": 19,
   "id": "2d047ca0",
   "metadata": {},
   "outputs": [],
   "source": [
    "from selenium import webdriver as wd\n",
    "import chromedriver_binary\n",
    "import random\n",
    "import time\n",
    "import pandas as pd\n",
    "from bs4 import BeautifulSoup\n",
    "from selenium.common.exceptions import NoSuchElementException\n",
    "\n",
    "wd = wd.Chrome()\n",
    "wd.implicitly_wait(10)"
   ]
  },
  {
   "cell_type": "code",
   "execution_count": 160,
   "id": "5e50d42f",
   "metadata": {},
   "outputs": [],
   "source": [
    "url = \"https://ais.usvisa-info.com/es-mx/niv/schedule/46713278/appointment\"\n",
    "page = wd.get(url)"
   ]
  },
  {
   "cell_type": "code",
   "execution_count": 161,
   "id": "5b9b991f",
   "metadata": {},
   "outputs": [],
   "source": [
    "#VISA LOGIC\n",
    "\n",
    "#First Ok button\n",
    "ok_button = wd.find_element(\"xpath\",'/html/body/div[7]/div[3]/div/button')\n",
    "ok_button.click()\n",
    "\n",
    "random_wait_time = random.randrange(1.0, 3.0)\n",
    "time.sleep(random_wait_time)\n",
    "\n",
    "#Fill username\n",
    "user_email = wd.find_element(\"xpath\",'//*[@id=\"user_email\"]')\n",
    "user_email.send_keys(\"xxxxxxx\")\n",
    "\n",
    "random_wait_time = random.randrange(1.0, 3.0)\n",
    "time.sleep(random_wait_time)\n",
    "\n",
    "#Fill Password\n",
    "user_password = wd.find_element(\"xpath\",'//*[@id=\"user_password\"]')\n",
    "user_password.send_keys(\"xxxxxxx\")\n",
    "\n",
    "random_wait_time = random.randrange(1.0, 3.0)\n",
    "time.sleep(random_wait_time)\n",
    "\n",
    "#Acepta terminos y condiciones\n",
    "terminos_condiciones = wd.find_element(\"xpath\",'//*[@id=\"sign_in_form\"]/div[3]/label/div')\n",
    "terminos_condiciones.click()\n",
    "\n",
    "random_wait_time = random.randrange(1.0, 3.0)\n",
    "time.sleep(random_wait_time)\n",
    "\n",
    "#Sign In button\n",
    "sign_in = wd.find_element(\"xpath\",'//*[@id=\"sign_in_form\"]/p[1]/input')\n",
    "sign_in.click()\n",
    "\n",
    "random_wait_time = random.randrange(1.0, 3.0)\n",
    "time.sleep(random_wait_time)\n",
    "\n",
    "#Open Calendar first appointment\n",
    "open_calendar1 = wd.find_element(\"xpath\",'//*[@id=\"appointments_consulate_appointment_date\"]')\n",
    "open_calendar1.click()\n",
    "\n",
    "random_wait_time = random.randrange(1.0, 3.0)\n",
    "time.sleep(random_wait_time)\n",
    "\n"
   ]
  },
  {
   "cell_type": "code",
   "execution_count": 251,
   "id": "72c5c948",
   "metadata": {},
   "outputs": [],
   "source": [
    "#clicks next to see the following months\n",
    "next1 = wd.find_element(\"xpath\",'//*[@id=\"ui-datepicker-div\"]/div[2]/div/a/span')\n",
    "next1.click()"
   ]
  },
  {
   "cell_type": "code",
   "execution_count": 252,
   "id": "c3cebcec",
   "metadata": {},
   "outputs": [
    {
     "data": {
      "text/plain": [
       "'2023-3-7'"
      ]
     },
     "execution_count": 252,
     "metadata": {},
     "output_type": "execute_result"
    }
   ],
   "source": [
    "soup = BeautifulSoup(wd.page_source)\n",
    "items = soup.find(\"td\", {\"data-handler\": \"selectDay\"})\n",
    "month1 = int(items[\"data-month\"]) + 1\n",
    "day1 = int(items.text)\n",
    "Appt = \"2023\" + \"-\" + str(day1) + \"-\" + str(month1)\n",
    "Appt"
   ]
  },
  {
   "cell_type": "code",
   "execution_count": 242,
   "id": "b7977f13",
   "metadata": {},
   "outputs": [
    {
     "data": {
      "text/plain": [
       "'[data-month=\"6\"]'"
      ]
     },
     "execution_count": 242,
     "metadata": {},
     "output_type": "execute_result"
    }
   ],
   "source": [
    "sss = '[data-month=\"'+ str(month1 - 1)+ '\"]'\n",
    "sss"
   ]
  },
  {
   "cell_type": "code",
   "execution_count": 245,
   "id": "055d7f9d",
   "metadata": {},
   "outputs": [],
   "source": [
    "T2 = wd.find_element(By.CSS_SELECTOR, sss)"
   ]
  },
  {
   "cell_type": "code",
   "execution_count": 246,
   "id": "4bb945ef",
   "metadata": {},
   "outputs": [],
   "source": [
    "T2.click()"
   ]
  },
  {
   "cell_type": "code",
   "execution_count": null,
   "id": "5765c9a7",
   "metadata": {},
   "outputs": [],
   "source": [
    "open_calendar1"
   ]
  },
  {
   "cell_type": "code",
   "execution_count": 255,
   "id": "0f5ed6ff",
   "metadata": {},
   "outputs": [
    {
     "name": "stdout",
     "output_type": "stream",
     "text": [
      "<td class=\"undefined ui-datepicker-current-day\" data-event=\"click\" data-handler=\"selectDay\" data-month=\"6\" data-year=\"2023\"><a class=\"ui-state-default ui-state-active\" href=\"#\">3</a></td>\n"
     ]
    }
   ],
   "source": [
    "print(items)"
   ]
  },
  {
   "cell_type": "code",
   "execution_count": null,
   "id": "c2f0c1d8",
   "metadata": {},
   "outputs": [],
   "source": []
  },
  {
   "cell_type": "code",
   "execution_count": 390,
   "id": "c4d1f474",
   "metadata": {},
   "outputs": [
    {
     "data": {
      "text/plain": [
       "[<td class=\"undefined ui-datepicker-current-day\" data-event=\"click\" data-handler=\"selectDay\" data-month=\"6\" data-year=\"2023\"><a class=\"ui-state-default ui-state-active\" href=\"#\">3</a></td>,\n",
       " <td class=\"undefined\" data-event=\"click\" data-handler=\"selectDay\" data-month=\"6\" data-year=\"2023\"><a class=\"ui-state-default\" href=\"#\">6</a></td>,\n",
       " <td class=\"undefined\" data-event=\"click\" data-handler=\"selectDay\" data-month=\"6\" data-year=\"2023\"><a class=\"ui-state-default\" href=\"#\">7</a></td>,\n",
       " <td class=\"undefined\" data-event=\"click\" data-handler=\"selectDay\" data-month=\"6\" data-year=\"2023\"><a class=\"ui-state-default\" href=\"#\">10</a></td>,\n",
       " <td class=\"undefined\" data-event=\"click\" data-handler=\"selectDay\" data-month=\"6\" data-year=\"2023\"><a class=\"ui-state-default\" href=\"#\">11</a></td>,\n",
       " <td class=\"undefined\" data-event=\"click\" data-handler=\"selectDay\" data-month=\"6\" data-year=\"2023\"><a class=\"ui-state-default\" href=\"#\">17</a></td>,\n",
       " <td class=\"undefined\" data-event=\"click\" data-handler=\"selectDay\" data-month=\"6\" data-year=\"2023\"><a class=\"ui-state-default\" href=\"#\">18</a></td>,\n",
       " <td class=\"undefined\" data-event=\"click\" data-handler=\"selectDay\" data-month=\"6\" data-year=\"2023\"><a class=\"ui-state-default\" href=\"#\">19</a></td>,\n",
       " <td class=\"undefined\" data-event=\"click\" data-handler=\"selectDay\" data-month=\"6\" data-year=\"2023\"><a class=\"ui-state-default\" href=\"#\">20</a></td>,\n",
       " <td class=\"undefined\" data-event=\"click\" data-handler=\"selectDay\" data-month=\"6\" data-year=\"2023\"><a class=\"ui-state-default\" href=\"#\">21</a></td>,\n",
       " <td class=\"undefined\" data-event=\"click\" data-handler=\"selectDay\" data-month=\"6\" data-year=\"2023\"><a class=\"ui-state-default\" href=\"#\">24</a></td>,\n",
       " <td class=\"undefined\" data-event=\"click\" data-handler=\"selectDay\" data-month=\"6\" data-year=\"2023\"><a class=\"ui-state-default\" href=\"#\">25</a></td>,\n",
       " <td class=\"undefined\" data-event=\"click\" data-handler=\"selectDay\" data-month=\"6\" data-year=\"2023\"><a class=\"ui-state-default\" href=\"#\">26</a></td>,\n",
       " <td class=\"undefined\" data-event=\"click\" data-handler=\"selectDay\" data-month=\"6\" data-year=\"2023\"><a class=\"ui-state-default\" href=\"#\">27</a></td>,\n",
       " <td class=\"undefined\" data-event=\"click\" data-handler=\"selectDay\" data-month=\"6\" data-year=\"2023\"><a class=\"ui-state-default\" href=\"#\">28</a></td>,\n",
       " <td class=\"undefined\" data-event=\"click\" data-handler=\"selectDay\" data-month=\"6\" data-year=\"2023\"><a class=\"ui-state-default\" href=\"#\">31</a></td>]"
      ]
     },
     "execution_count": 390,
     "metadata": {},
     "output_type": "execute_result"
    }
   ],
   "source": [
    "soup = BeautifulSoup(wd.page_source)\n",
    "itemsTest = soup.find(\"table\", {\"class\": \"ui-datepicker-calendar\"})\n",
    "month = itemsTest.findAll(\"td\", {\"data-month\": \"6\"})\n",
    "db_month = []\n",
    "\n",
    "for x in month:\n",
    "    db_month.append(x)\n",
    "    \n",
    "xs = [None] * len(db_month)\n",
    "db_month"
   ]
  }
 ],
 "metadata": {
  "kernelspec": {
   "display_name": "Python 3 (ipykernel)",
   "language": "python",
   "name": "python3"
  },
  "language_info": {
   "codemirror_mode": {
    "name": "ipython",
    "version": 3
   },
   "file_extension": ".py",
   "mimetype": "text/x-python",
   "name": "python",
   "nbconvert_exporter": "python",
   "pygments_lexer": "ipython3",
   "version": "3.9.13"
  }
 },
 "nbformat": 4,
 "nbformat_minor": 5
}
