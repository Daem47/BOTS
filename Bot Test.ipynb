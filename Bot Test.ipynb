{
 "cells": [
  {
   "cell_type": "code",
   "execution_count": 19,
   "id": "2d047ca0",
   "metadata": {},
   "outputs": [],
   "source": [
    "from selenium import webdriver as wd\n",
    "import chromedriver_binary\n",
    "import random\n",
    "import time\n",
    "import pandas as pd\n",
    "from bs4 import BeautifulSoup\n",
    "from selenium.common.exceptions import NoSuchElementException\n",
    "\n",
    "wd = wd.Chrome()\n",
    "wd.implicitly_wait(10)"
   ]
  },
  {
   "cell_type": "code",
   "execution_count": 95,
   "id": "690f1c2d",
   "metadata": {},
   "outputs": [],
   "source": [
    "url = \"https://ais.usvisa-info.com/es-mx/niv/schedule/46713278/appointment\"\n",
    "page = wd.get(url)"
   ]
  },
  {
   "cell_type": "code",
   "execution_count": 22,
   "id": "312810d8",
   "metadata": {},
   "outputs": [
    {
     "name": "stdout",
     "output_type": "stream",
     "text": [
      " February 14\n"
     ]
    }
   ],
   "source": [
    "\n",
    "random_wait_time = random.randrange(1.0, 3.0)\n",
    "time.sleep(random_wait_time)\n",
    "\n",
    "#Click on just One-way\n",
    "calendar = wd.find_element(\"xpath\",'//*[@id=\"bookFlightForm\"]/div[1]/fieldset/div/label[2]/span[2]')\n",
    "calendar.click()\n",
    "\n",
    "random_wait_time = random.randrange(1.0, 3.0)\n",
    "time.sleep(random_wait_time)\n",
    "\n",
    "#Click on calendar to retrieve Data\n",
    "calendar = wd.find_element(\"xpath\",'//*[@id=\"DepartDate\"]')\n",
    "calendar.click()\n",
    "\n",
    "random_wait_time = random.randrange(1.0, 3.0)\n",
    "time.sleep(random_wait_time)\n",
    "\n",
    "#Go to last month to retrieve Data  \n",
    "last_month = wd.find_element(\"xpath\",'//*[@id=\"passengersSlidingInputContainer\"]/div[1]/div/div/div/div/div[2]/div/div/div[1]/div[2]/div[1]/button[1]/span')\n",
    "last_month.click()\n",
    "\n",
    "random_wait_time = random.randrange(1.0, 3.0)\n",
    "time.sleep(random_wait_time)\n",
    "\n",
    "# next first available date\n",
    "soupT = BeautifulSoup(wd.page_source)\n",
    "itemsT = soupT.find(\"td\", {\"aria-disabled\": \"false\"})\n",
    "first_date = itemsT[\"aria-label\"]\n",
    "\n",
    "#Split the text to just have the month and day\n",
    "day, new_date,t1 = first_date.split(',')\n",
    "print(F_date)\n",
    "\n",
    "random_wait_time = random.randrange(1.0, 3.0)\n",
    "time.sleep(random_wait_time)\n",
    "\n",
    "#Delete what is inside the Departure Box\n",
    "delete = wd.find_element(\"xpath\",'//*[@id=\"passengersSlidingInputContainer\"]/div[1]/div/button')\n",
    "delete.click()\n",
    "\n",
    "random_wait_time = random.randrange(1.0, 3.0)\n",
    "time.sleep(random_wait_time)\n",
    "\n",
    "calendar2 = wd.find_element(\"xpath\",'//*[@id=\"DepartDate\"]')\n",
    "calendar2.send_keys(F_date)\n",
    "\n"
   ]
  },
  {
   "cell_type": "code",
   "execution_count": 90,
   "id": "ba2dca95",
   "metadata": {},
   "outputs": [
    {
     "data": {
      "text/plain": [
       "[' February 14']"
      ]
     },
     "execution_count": 90,
     "metadata": {},
     "output_type": "execute_result"
    }
   ],
   "source": [
    "row = []\n",
    "row.append(F_date)\n",
    "row"
   ]
  },
  {
   "cell_type": "code",
   "execution_count": 93,
   "id": "3b7644b1",
   "metadata": {},
   "outputs": [
    {
     "data": {
      "text/html": [
       "<div>\n",
       "<style scoped>\n",
       "    .dataframe tbody tr th:only-of-type {\n",
       "        vertical-align: middle;\n",
       "    }\n",
       "\n",
       "    .dataframe tbody tr th {\n",
       "        vertical-align: top;\n",
       "    }\n",
       "\n",
       "    .dataframe thead th {\n",
       "        text-align: right;\n",
       "    }\n",
       "</style>\n",
       "<table border=\"1\" class=\"dataframe\">\n",
       "  <thead>\n",
       "    <tr style=\"text-align: right;\">\n",
       "      <th></th>\n",
       "      <th>1st DATE</th>\n",
       "    </tr>\n",
       "  </thead>\n",
       "  <tbody>\n",
       "    <tr>\n",
       "      <th>0</th>\n",
       "      <td>February 14</td>\n",
       "    </tr>\n",
       "    <tr>\n",
       "      <th>1</th>\n",
       "      <td>February 14</td>\n",
       "    </tr>\n",
       "  </tbody>\n",
       "</table>\n",
       "</div>"
      ],
      "text/plain": [
       "      1st DATE \n",
       "0   February 14\n",
       "1   February 14"
      ]
     },
     "execution_count": 93,
     "metadata": {},
     "output_type": "execute_result"
    }
   ],
   "source": [
    "Avail_dates2 = pd.DataFrame(row, columns={\"1st DATE \"})\n",
    "Avail_dates2"
   ]
  },
  {
   "cell_type": "code",
   "execution_count": null,
   "id": "52bea965",
   "metadata": {},
   "outputs": [],
   "source": []
  },
  {
   "cell_type": "code",
   "execution_count": 36,
   "id": "537f8997",
   "metadata": {},
   "outputs": [],
   "source": []
  },
  {
   "cell_type": "code",
   "execution_count": null,
   "id": "a29bf778",
   "metadata": {},
   "outputs": [],
   "source": []
  },
  {
   "cell_type": "code",
   "execution_count": null,
   "id": "f7958e78",
   "metadata": {},
   "outputs": [],
   "source": []
  },
  {
   "cell_type": "code",
   "execution_count": 96,
   "id": "5b9b991f",
   "metadata": {},
   "outputs": [],
   "source": [
    "#VISA LOGIC\n",
    "\n",
    "#First Ok button\n",
    "ok_button = wd.find_element(\"xpath\",'/html/body/div[7]/div[3]/div/button')\n",
    "ok_button.click()\n",
    "\n",
    "random_wait_time = random.randrange(1.0, 3.0)\n",
    "time.sleep(random_wait_time)\n",
    "\n",
    "#Fill username\n",
    "user_email = wd.find_element(\"xpath\",'//*[@id=\"user_email\"]')\n",
    "user_email.send_keys(\"dyllan.egana@hotmail.com\")\n",
    "\n",
    "random_wait_time = random.randrange(1.0, 3.0)\n",
    "time.sleep(random_wait_time)\n",
    "\n",
    "#Fill Password\n",
    "user_password = wd.find_element(\"xpath\",'//*[@id=\"user_password\"]')\n",
    "user_password.send_keys(\"Dematic400\")\n",
    "\n",
    "random_wait_time = random.randrange(1.0, 3.0)\n",
    "time.sleep(random_wait_time)\n",
    "\n",
    "#Acepta terminos y condiciones\n",
    "terminos_condiciones = wd.find_element(\"xpath\",'//*[@id=\"sign_in_form\"]/div[3]/label/div')\n",
    "terminos_condiciones.click()\n",
    "\n",
    "random_wait_time = random.randrange(1.0, 3.0)\n",
    "time.sleep(random_wait_time)\n",
    "\n",
    "#Sign In button\n",
    "sign_in = wd.find_element(\"xpath\",'//*[@id=\"sign_in_form\"]/p[1]/input')\n",
    "sign_in.click()\n",
    "\n",
    "random_wait_time = random.randrange(1.0, 3.0)\n",
    "time.sleep(random_wait_time)\n",
    "\n",
    "#Open Calendar first appointment\n",
    "open_calendar1 = wd.find_element(\"xpath\",'//*[@id=\"appointments_consulate_appointment_date\"]')\n",
    "open_calendar1.click()\n",
    "\n",
    "random_wait_time = random.randrange(1.0, 3.0)\n",
    "time.sleep(random_wait_time)\n",
    "\n"
   ]
  },
  {
   "cell_type": "code",
   "execution_count": 117,
   "id": "c3cebcec",
   "metadata": {},
   "outputs": [
    {
     "data": {
      "text/plain": [
       "<td class=\"undefined\" data-event=\"click\" data-handler=\"selectDay\" data-month=\"6\" data-year=\"2023\"><a class=\"ui-state-default\" href=\"#\">3</a></td>"
      ]
     },
     "execution_count": 117,
     "metadata": {},
     "output_type": "execute_result"
    }
   ],
   "source": [
    "soup = BeautifulSoup(wd.page_source)\n",
    "items = soup.find(\"td\", {\"data-handler\": \"selectDay\"})\n",
    "items"
   ]
  },
  {
   "cell_type": "code",
   "execution_count": 107,
   "id": "855f858e",
   "metadata": {},
   "outputs": [
    {
     "ename": "TypeError",
     "evalue": "'NoneType' object is not callable",
     "output_type": "error",
     "traceback": [
      "\u001b[1;31m---------------------------------------------------------------------------\u001b[0m",
      "\u001b[1;31mTypeError\u001b[0m                                 Traceback (most recent call last)",
      "\u001b[1;32m~\\AppData\\Local\\Temp\\ipykernel_13344\\410319156.py\u001b[0m in \u001b[0;36m<module>\u001b[1;34m\u001b[0m\n\u001b[0;32m      1\u001b[0m \u001b[0mmonth1\u001b[0m \u001b[1;33m=\u001b[0m \u001b[0mint\u001b[0m\u001b[1;33m(\u001b[0m\u001b[0mitems\u001b[0m\u001b[1;33m[\u001b[0m\u001b[1;34m\"data-month\"\u001b[0m\u001b[1;33m]\u001b[0m\u001b[1;33m)\u001b[0m \u001b[1;33m+\u001b[0m \u001b[1;36m1\u001b[0m\u001b[1;33m\u001b[0m\u001b[1;33m\u001b[0m\u001b[0m\n\u001b[1;32m----> 2\u001b[1;33m \u001b[0mday1\u001b[0m \u001b[1;33m=\u001b[0m \u001b[0mint\u001b[0m\u001b[1;33m(\u001b[0m\u001b[0mitems\u001b[0m\u001b[1;33m.\u001b[0m\u001b[0mget_attribute\u001b[0m\u001b[1;33m(\u001b[0m\u001b[1;33m)\u001b[0m\u001b[1;33m)\u001b[0m\u001b[1;33m\u001b[0m\u001b[1;33m\u001b[0m\u001b[0m\n\u001b[0m\u001b[0;32m      3\u001b[0m \u001b[0mday1\u001b[0m\u001b[1;33m\u001b[0m\u001b[1;33m\u001b[0m\u001b[0m\n",
      "\u001b[1;31mTypeError\u001b[0m: 'NoneType' object is not callable"
     ]
    }
   ],
   "source": [
    "month1 = int(items[\"data-month\"]) + 1"
   ]
  },
  {
   "cell_type": "code",
   "execution_count": 118,
   "id": "0c3b5a2c",
   "metadata": {},
   "outputs": [
    {
     "data": {
      "text/plain": [
       "<td class=\"undefined\" data-event=\"click\" data-handler=\"selectDay\" data-month=\"6\" data-year=\"2023\"><a class=\"ui-state-default\" href=\"#\">3</a></td>"
      ]
     },
     "execution_count": 118,
     "metadata": {},
     "output_type": "execute_result"
    }
   ],
   "source": [
    "items"
   ]
  },
  {
   "cell_type": "code",
   "execution_count": 119,
   "id": "4047f09a",
   "metadata": {},
   "outputs": [
    {
     "name": "stdout",
     "output_type": "stream",
     "text": [
      " February 14\n"
     ]
    }
   ],
   "source": [
    ", new_date, = items.split('>')\n",
    "print(new_date)"
   ]
  },
  {
   "cell_type": "code",
   "execution_count": null,
   "id": "8a1d72ea",
   "metadata": {},
   "outputs": [],
   "source": [
    "#Split the text to just have the month and day\n",
    "day, new_date,t1 = first_date.split(',')\n",
    "print(F_date)"
   ]
  },
  {
   "cell_type": "code",
   "execution_count": null,
   "id": "c4d1f474",
   "metadata": {},
   "outputs": [],
   "source": []
  },
  {
   "cell_type": "code",
   "execution_count": null,
   "id": "9786ebe6",
   "metadata": {},
   "outputs": [],
   "source": []
  },
  {
   "cell_type": "code",
   "execution_count": 100,
   "id": "dee09f3c",
   "metadata": {},
   "outputs": [],
   "source": [
    "\n",
    "\n",
    "\n",
    "\n",
    "\n",
    "\n",
    "\n",
    "\n"
   ]
  },
  {
   "cell_type": "code",
   "execution_count": null,
   "id": "1daaba33",
   "metadata": {},
   "outputs": [],
   "source": []
  }
 ],
 "metadata": {
  "kernelspec": {
   "display_name": "Python 3 (ipykernel)",
   "language": "python",
   "name": "python3"
  },
  "language_info": {
   "codemirror_mode": {
    "name": "ipython",
    "version": 3
   },
   "file_extension": ".py",
   "mimetype": "text/x-python",
   "name": "python",
   "nbconvert_exporter": "python",
   "pygments_lexer": "ipython3",
   "version": "3.9.13"
  }
 },
 "nbformat": 4,
 "nbformat_minor": 5
}
